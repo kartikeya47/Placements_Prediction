{
 "cells": [
  {
   "cell_type": "code",
   "execution_count": 1,
   "id": "b5cfe4a3",
   "metadata": {
    "_cell_guid": "b1076dfc-b9ad-4769-8c92-a6c4dae69d19",
    "_uuid": "8f2839f25d086af736a60e9eeb907d3b93b6e0e5",
    "execution": {
     "iopub.execute_input": "2021-09-06T20:56:13.519975Z",
     "iopub.status.busy": "2021-09-06T20:56:13.519335Z",
     "iopub.status.idle": "2021-09-06T20:56:13.528530Z",
     "shell.execute_reply": "2021-09-06T20:56:13.527585Z",
     "shell.execute_reply.started": "2021-09-06T20:03:32.519543Z"
    },
    "papermill": {
     "duration": 0.040975,
     "end_time": "2021-09-06T20:56:13.528747",
     "exception": false,
     "start_time": "2021-09-06T20:56:13.487772",
     "status": "completed"
    },
    "tags": []
   },
   "outputs": [
    {
     "name": "stdout",
     "output_type": "stream",
     "text": [
      "/kaggle/input/engineering-placements-prediction/collegePlace.csv\n"
     ]
    }
   ],
   "source": [
    "# This Python 3 environment comes with many helpful analytics libraries installed\n",
    "# It is defined by the kaggle/python Docker image: https://github.com/kaggle/docker-python\n",
    "# For example, here's several helpful packages to load\n",
    "\n",
    "import numpy as np # linear algebra\n",
    "import pandas as pd # data processing, CSV file I/O (e.g. pd.read_csv)\n",
    "\n",
    "# Input data files are available in the read-only \"../input/\" directory\n",
    "# For example, running this (by clicking run or pressing Shift+Enter) will list all files under the input directory\n",
    "\n",
    "import os\n",
    "for dirname, _, filenames in os.walk('/kaggle/input'):\n",
    "    for filename in filenames:\n",
    "        print(os.path.join(dirname, filename))\n",
    "\n",
    "# You can write up to 20GB to the current directory (/kaggle/working/) that gets preserved as output when you create a version using \"Save & Run All\" \n",
    "# You can also write temporary files to /kaggle/temp/, but they won't be saved outside of the current session"
   ]
  },
  {
   "cell_type": "markdown",
   "id": "31c14ca5",
   "metadata": {
    "papermill": {
     "duration": 0.019828,
     "end_time": "2021-09-06T20:56:13.569311",
     "exception": false,
     "start_time": "2021-09-06T20:56:13.549483",
     "status": "completed"
    },
    "tags": []
   },
   "source": [
    "# Importing Required Libraries "
   ]
  },
  {
   "cell_type": "code",
   "execution_count": 2,
   "id": "7c5e4b8e",
   "metadata": {
    "execution": {
     "iopub.execute_input": "2021-09-06T20:56:13.611967Z",
     "iopub.status.busy": "2021-09-06T20:56:13.611296Z",
     "iopub.status.idle": "2021-09-06T20:56:16.141358Z",
     "shell.execute_reply": "2021-09-06T20:56:16.140575Z",
     "shell.execute_reply.started": "2021-09-06T20:04:27.939284Z"
    },
    "papermill": {
     "duration": 2.552202,
     "end_time": "2021-09-06T20:56:16.141517",
     "exception": false,
     "start_time": "2021-09-06T20:56:13.589315",
     "status": "completed"
    },
    "tags": []
   },
   "outputs": [],
   "source": [
    "import numpy as np\n",
    "import pandas as pd \n",
    "import matplotlib.pyplot as plt\n",
    "import plotly.express as px\n",
    "import seaborn as sns\n",
    "%matplotlib inline\n",
    "from sklearn.preprocessing import LabelEncoder\n",
    "from sklearn.model_selection import train_test_split\n",
    "from sklearn.linear_model import LinearRegression\n",
    "from sklearn.ensemble import RandomForestRegressor\n",
    "import sklearn.metrics as metrics\n",
    "import os\n",
    "from sklearn.preprocessing import LabelEncoder\n",
    "from sklearn.model_selection import train_test_split,RandomizedSearchCV\n",
    "from sklearn.linear_model import LogisticRegression\n",
    "from sklearn.svm import SVC\n",
    "from sklearn.metrics import accuracy_score\n",
    "import seaborn as sns"
   ]
  },
  {
   "cell_type": "markdown",
   "id": "18b89710",
   "metadata": {
    "papermill": {
     "duration": 0.020526,
     "end_time": "2021-09-06T20:56:16.183475",
     "exception": false,
     "start_time": "2021-09-06T20:56:16.162949",
     "status": "completed"
    },
    "tags": []
   },
   "source": [
    "![](https://www.pngitem.com/pimgs/m/215-2156289_training-and-placement-hd-png-download.png)"
   ]
  },
  {
   "cell_type": "markdown",
   "id": "5b82d96b",
   "metadata": {
    "papermill": {
     "duration": 0.02069,
     "end_time": "2021-09-06T20:56:16.224749",
     "exception": false,
     "start_time": "2021-09-06T20:56:16.204059",
     "status": "completed"
    },
    "tags": []
   },
   "source": [
    "# Placement refers to the process of connecting the selected person and the employer in order to establish an ongoing employment relationship. In this step the employee is given the activities he/she needs to perform and is told about his/her duties. Placement is usually followed by the orientation process."
   ]
  },
  {
   "cell_type": "markdown",
   "id": "053092db",
   "metadata": {
    "papermill": {
     "duration": 0.020208,
     "end_time": "2021-09-06T20:56:16.266554",
     "exception": false,
     "start_time": "2021-09-06T20:56:16.246346",
     "status": "completed"
    },
    "tags": []
   },
   "source": []
  },
  {
   "cell_type": "markdown",
   "id": "ddbe77ac",
   "metadata": {
    "papermill": {
     "duration": 0.019856,
     "end_time": "2021-09-06T20:56:16.306600",
     "exception": false,
     "start_time": "2021-09-06T20:56:16.286744",
     "status": "completed"
    },
    "tags": []
   },
   "source": []
  },
  {
   "cell_type": "markdown",
   "id": "236bd9be",
   "metadata": {
    "papermill": {
     "duration": 0.019724,
     "end_time": "2021-09-06T20:56:16.346687",
     "exception": false,
     "start_time": "2021-09-06T20:56:16.326963",
     "status": "completed"
    },
    "tags": []
   },
   "source": []
  },
  {
   "cell_type": "markdown",
   "id": "ec0d846f",
   "metadata": {
    "papermill": {
     "duration": 0.02017,
     "end_time": "2021-09-06T20:56:16.387286",
     "exception": false,
     "start_time": "2021-09-06T20:56:16.367116",
     "status": "completed"
    },
    "tags": []
   },
   "source": [
    "# Reading the CSV File"
   ]
  },
  {
   "cell_type": "code",
   "execution_count": 3,
   "id": "422086d1",
   "metadata": {
    "execution": {
     "iopub.execute_input": "2021-09-06T20:56:16.433374Z",
     "iopub.status.busy": "2021-09-06T20:56:16.432721Z",
     "iopub.status.idle": "2021-09-06T20:56:16.447801Z",
     "shell.execute_reply": "2021-09-06T20:56:16.446901Z",
     "shell.execute_reply.started": "2021-09-06T20:16:37.299470Z"
    },
    "papermill": {
     "duration": 0.039994,
     "end_time": "2021-09-06T20:56:16.447954",
     "exception": false,
     "start_time": "2021-09-06T20:56:16.407960",
     "status": "completed"
    },
    "tags": []
   },
   "outputs": [],
   "source": [
    "data = pd.read_csv('/kaggle/input/engineering-placements-prediction/collegePlace.csv')"
   ]
  },
  {
   "cell_type": "code",
   "execution_count": 4,
   "id": "cebfc1b5",
   "metadata": {
    "execution": {
     "iopub.execute_input": "2021-09-06T20:56:16.501126Z",
     "iopub.status.busy": "2021-09-06T20:56:16.500457Z",
     "iopub.status.idle": "2021-09-06T20:56:16.519944Z",
     "shell.execute_reply": "2021-09-06T20:56:16.519466Z",
     "shell.execute_reply.started": "2021-09-06T20:16:39.518679Z"
    },
    "papermill": {
     "duration": 0.050583,
     "end_time": "2021-09-06T20:56:16.520086",
     "exception": false,
     "start_time": "2021-09-06T20:56:16.469503",
     "status": "completed"
    },
    "tags": []
   },
   "outputs": [
    {
     "data": {
      "text/html": [
       "<div>\n",
       "<style scoped>\n",
       "    .dataframe tbody tr th:only-of-type {\n",
       "        vertical-align: middle;\n",
       "    }\n",
       "\n",
       "    .dataframe tbody tr th {\n",
       "        vertical-align: top;\n",
       "    }\n",
       "\n",
       "    .dataframe thead th {\n",
       "        text-align: right;\n",
       "    }\n",
       "</style>\n",
       "<table border=\"1\" class=\"dataframe\">\n",
       "  <thead>\n",
       "    <tr style=\"text-align: right;\">\n",
       "      <th></th>\n",
       "      <th>Age</th>\n",
       "      <th>Gender</th>\n",
       "      <th>Stream</th>\n",
       "      <th>Internships</th>\n",
       "      <th>CGPA</th>\n",
       "      <th>Hostel</th>\n",
       "      <th>HistoryOfBacklogs</th>\n",
       "      <th>PlacedOrNot</th>\n",
       "    </tr>\n",
       "  </thead>\n",
       "  <tbody>\n",
       "    <tr>\n",
       "      <th>0</th>\n",
       "      <td>22</td>\n",
       "      <td>Male</td>\n",
       "      <td>Electronics And Communication</td>\n",
       "      <td>1</td>\n",
       "      <td>8</td>\n",
       "      <td>1</td>\n",
       "      <td>1</td>\n",
       "      <td>1</td>\n",
       "    </tr>\n",
       "    <tr>\n",
       "      <th>1</th>\n",
       "      <td>21</td>\n",
       "      <td>Female</td>\n",
       "      <td>Computer Science</td>\n",
       "      <td>0</td>\n",
       "      <td>7</td>\n",
       "      <td>1</td>\n",
       "      <td>1</td>\n",
       "      <td>1</td>\n",
       "    </tr>\n",
       "    <tr>\n",
       "      <th>2</th>\n",
       "      <td>22</td>\n",
       "      <td>Female</td>\n",
       "      <td>Information Technology</td>\n",
       "      <td>1</td>\n",
       "      <td>6</td>\n",
       "      <td>0</td>\n",
       "      <td>0</td>\n",
       "      <td>1</td>\n",
       "    </tr>\n",
       "    <tr>\n",
       "      <th>3</th>\n",
       "      <td>21</td>\n",
       "      <td>Male</td>\n",
       "      <td>Information Technology</td>\n",
       "      <td>0</td>\n",
       "      <td>8</td>\n",
       "      <td>0</td>\n",
       "      <td>1</td>\n",
       "      <td>1</td>\n",
       "    </tr>\n",
       "    <tr>\n",
       "      <th>4</th>\n",
       "      <td>22</td>\n",
       "      <td>Male</td>\n",
       "      <td>Mechanical</td>\n",
       "      <td>0</td>\n",
       "      <td>8</td>\n",
       "      <td>1</td>\n",
       "      <td>0</td>\n",
       "      <td>1</td>\n",
       "    </tr>\n",
       "  </tbody>\n",
       "</table>\n",
       "</div>"
      ],
      "text/plain": [
       "   Age  Gender                         Stream  Internships  CGPA  Hostel  \\\n",
       "0   22    Male  Electronics And Communication            1     8       1   \n",
       "1   21  Female               Computer Science            0     7       1   \n",
       "2   22  Female         Information Technology            1     6       0   \n",
       "3   21    Male         Information Technology            0     8       0   \n",
       "4   22    Male                     Mechanical            0     8       1   \n",
       "\n",
       "   HistoryOfBacklogs  PlacedOrNot  \n",
       "0                  1            1  \n",
       "1                  1            1  \n",
       "2                  0            1  \n",
       "3                  1            1  \n",
       "4                  0            1  "
      ]
     },
     "execution_count": 4,
     "metadata": {},
     "output_type": "execute_result"
    }
   ],
   "source": [
    "data.head() #Displaying head of the data"
   ]
  },
  {
   "cell_type": "code",
   "execution_count": 5,
   "id": "6c4a379c",
   "metadata": {
    "execution": {
     "iopub.execute_input": "2021-09-06T20:56:16.564701Z",
     "iopub.status.busy": "2021-09-06T20:56:16.564117Z",
     "iopub.status.idle": "2021-09-06T20:56:16.572498Z",
     "shell.execute_reply": "2021-09-06T20:56:16.572975Z",
     "shell.execute_reply.started": "2021-09-06T20:37:31.296656Z"
    },
    "papermill": {
     "duration": 0.03287,
     "end_time": "2021-09-06T20:56:16.573135",
     "exception": false,
     "start_time": "2021-09-06T20:56:16.540265",
     "status": "completed"
    },
    "tags": []
   },
   "outputs": [],
   "source": [
    "df = pd.read_csv('/kaggle/input/engineering-placements-prediction/collegePlace.csv')"
   ]
  },
  {
   "cell_type": "markdown",
   "id": "56b50ad9",
   "metadata": {
    "papermill": {
     "duration": 0.019611,
     "end_time": "2021-09-06T20:56:16.612861",
     "exception": false,
     "start_time": "2021-09-06T20:56:16.593250",
     "status": "completed"
    },
    "tags": []
   },
   "source": [
    "# Visualizations"
   ]
  },
  {
   "cell_type": "code",
   "execution_count": 6,
   "id": "9a16122e",
   "metadata": {
    "execution": {
     "iopub.execute_input": "2021-09-06T20:56:16.655676Z",
     "iopub.status.busy": "2021-09-06T20:56:16.655038Z",
     "iopub.status.idle": "2021-09-06T20:56:22.362097Z",
     "shell.execute_reply": "2021-09-06T20:56:22.362551Z",
     "shell.execute_reply.started": "2021-09-06T20:48:33.731875Z"
    },
    "papermill": {
     "duration": 5.730067,
     "end_time": "2021-09-06T20:56:22.362801",
     "exception": false,
     "start_time": "2021-09-06T20:56:16.632734",
     "status": "completed"
    },
    "tags": []
   },
   "outputs": [
    {
     "data": {
      "text/plain": [
       "<BarContainer object of 2966 artists>"
      ]
     },
     "execution_count": 6,
     "metadata": {},
     "output_type": "execute_result"
    },
    {
     "data": {
      "image/png": "[encoded data removed]",
      "text/plain": [
       "<Figure size 1440x720 with 1 Axes>"
      ]
     },
     "metadata": {
      "needs_background": "light"
     },
     "output_type": "display_data"
    }
   ],
   "source": [
    "plt.figure(figsize=(20,10)) #Streams Vs. Gender\n",
    "plt.bar(df.Stream,df.Gender,color='red')"
   ]
  },
  {
   "cell_type": "code",
   "execution_count": 7,
   "id": "28c645cf",
   "metadata": {
    "execution": {
     "iopub.execute_input": "2021-09-06T20:56:22.434596Z",
     "iopub.status.busy": "2021-09-06T20:56:22.429145Z",
     "iopub.status.idle": "2021-09-06T20:56:28.227131Z",
     "shell.execute_reply": "2021-09-06T20:56:28.226263Z",
     "shell.execute_reply.started": "2021-09-06T20:50:19.942285Z"
    },
    "papermill": {
     "duration": 5.843215,
     "end_time": "2021-09-06T20:56:28.227276",
     "exception": false,
     "start_time": "2021-09-06T20:56:22.384061",
     "status": "completed"
    },
    "tags": []
   },
   "outputs": [
    {
     "data": {
      "text/plain": [
       "<BarContainer object of 2966 artists>"
      ]
     },
     "execution_count": 7,
     "metadata": {},
     "output_type": "execute_result"
    },
    {
     "data": {
      "image/png": "[encoded data removed]",
      "text/plain": [
       "<Figure size 1440x720 with 1 Axes>"
      ]
     },
     "metadata": {
      "needs_background": "light"
     },
     "output_type": "display_data"
    }
   ],
   "source": [
    "plt.figure(figsize=(20,10)) #Streams Vs. CGPA\n",
    "plt.bar(df.Stream,df.CGPA,color='blue')"
   ]
  },
  {
   "cell_type": "code",
   "execution_count": 8,
   "id": "1441eff7",
   "metadata": {
    "execution": {
     "iopub.execute_input": "2021-09-06T20:56:28.276962Z",
     "iopub.status.busy": "2021-09-06T20:56:28.276304Z",
     "iopub.status.idle": "2021-09-06T20:56:34.985329Z",
     "shell.execute_reply": "2021-09-06T20:56:34.985819Z",
     "shell.execute_reply.started": "2021-09-06T20:45:34.183826Z"
    },
    "papermill": {
     "duration": 6.73672,
     "end_time": "2021-09-06T20:56:34.985999",
     "exception": false,
     "start_time": "2021-09-06T20:56:28.249279",
     "status": "completed"
    },
    "tags": []
   },
   "outputs": [
    {
     "data": {
      "text/plain": [
       "<seaborn.axisgrid.PairGrid at 0x7f23f90aa610>"
      ]
     },
     "execution_count": 8,
     "metadata": {},
     "output_type": "execute_result"
    },
    {
     "data": {
      "image/png": "[encoded data removed]",
      "text/plain": [
       "<Figure size 1080x1080 with 42 Axes>"
      ]
     },
     "metadata": {
      "needs_background": "light"
     },
     "output_type": "display_data"
    }
   ],
   "source": [
    "import seaborn as sns #Pairplot\n",
    "sns.pairplot(df,diag_kind='kde')"
   ]
  },
  {
   "cell_type": "markdown",
   "id": "d7f097c1",
   "metadata": {
    "papermill": {
     "duration": 0.024394,
     "end_time": "2021-09-06T20:56:35.035563",
     "exception": false,
     "start_time": "2021-09-06T20:56:35.011169",
     "status": "completed"
    },
    "tags": []
   },
   "source": [
    "# Let's us check for NULL Values"
   ]
  },
  {
   "cell_type": "code",
   "execution_count": 9,
   "id": "e63e7ba2",
   "metadata": {
    "execution": {
     "iopub.execute_input": "2021-09-06T20:56:35.095053Z",
     "iopub.status.busy": "2021-09-06T20:56:35.094135Z",
     "iopub.status.idle": "2021-09-06T20:56:35.098423Z",
     "shell.execute_reply": "2021-09-06T20:56:35.097988Z"
    },
    "papermill": {
     "duration": 0.037105,
     "end_time": "2021-09-06T20:56:35.098561",
     "exception": false,
     "start_time": "2021-09-06T20:56:35.061456",
     "status": "completed"
    },
    "tags": []
   },
   "outputs": [
    {
     "data": {
      "text/plain": [
       "Age                  0\n",
       "Gender               0\n",
       "Stream               0\n",
       "Internships          0\n",
       "CGPA                 0\n",
       "Hostel               0\n",
       "HistoryOfBacklogs    0\n",
       "PlacedOrNot          0\n",
       "dtype: int64"
      ]
     },
     "execution_count": 9,
     "metadata": {},
     "output_type": "execute_result"
    }
   ],
   "source": [
    "data.isnull().sum() #No Null values are there"
   ]
  },
  {
   "cell_type": "code",
   "execution_count": 10,
   "id": "6a30e673",
   "metadata": {
    "execution": {
     "iopub.execute_input": "2021-09-06T20:56:35.156319Z",
     "iopub.status.busy": "2021-09-06T20:56:35.155658Z",
     "iopub.status.idle": "2021-09-06T20:56:35.182590Z",
     "shell.execute_reply": "2021-09-06T20:56:35.183080Z"
    },
    "papermill": {
     "duration": 0.058993,
     "end_time": "2021-09-06T20:56:35.183241",
     "exception": false,
     "start_time": "2021-09-06T20:56:35.124248",
     "status": "completed"
    },
    "tags": []
   },
   "outputs": [
    {
     "data": {
      "text/html": [
       "<div>\n",
       "<style scoped>\n",
       "    .dataframe tbody tr th:only-of-type {\n",
       "        vertical-align: middle;\n",
       "    }\n",
       "\n",
       "    .dataframe tbody tr th {\n",
       "        vertical-align: top;\n",
       "    }\n",
       "\n",
       "    .dataframe thead th {\n",
       "        text-align: right;\n",
       "    }\n",
       "</style>\n",
       "<table border=\"1\" class=\"dataframe\">\n",
       "  <thead>\n",
       "    <tr style=\"text-align: right;\">\n",
       "      <th></th>\n",
       "      <th>Age</th>\n",
       "      <th>Internships</th>\n",
       "      <th>CGPA</th>\n",
       "      <th>Hostel</th>\n",
       "      <th>HistoryOfBacklogs</th>\n",
       "      <th>PlacedOrNot</th>\n",
       "    </tr>\n",
       "  </thead>\n",
       "  <tbody>\n",
       "    <tr>\n",
       "      <th>count</th>\n",
       "      <td>2966.000000</td>\n",
       "      <td>2966.000000</td>\n",
       "      <td>2966.000000</td>\n",
       "      <td>2966.000000</td>\n",
       "      <td>2966.000000</td>\n",
       "      <td>2966.000000</td>\n",
       "    </tr>\n",
       "    <tr>\n",
       "      <th>mean</th>\n",
       "      <td>21.485840</td>\n",
       "      <td>0.703641</td>\n",
       "      <td>7.073837</td>\n",
       "      <td>0.269049</td>\n",
       "      <td>0.192178</td>\n",
       "      <td>0.552596</td>\n",
       "    </tr>\n",
       "    <tr>\n",
       "      <th>std</th>\n",
       "      <td>1.324933</td>\n",
       "      <td>0.740197</td>\n",
       "      <td>0.967748</td>\n",
       "      <td>0.443540</td>\n",
       "      <td>0.394079</td>\n",
       "      <td>0.497310</td>\n",
       "    </tr>\n",
       "    <tr>\n",
       "      <th>min</th>\n",
       "      <td>19.000000</td>\n",
       "      <td>0.000000</td>\n",
       "      <td>5.000000</td>\n",
       "      <td>0.000000</td>\n",
       "      <td>0.000000</td>\n",
       "      <td>0.000000</td>\n",
       "    </tr>\n",
       "    <tr>\n",
       "      <th>25%</th>\n",
       "      <td>21.000000</td>\n",
       "      <td>0.000000</td>\n",
       "      <td>6.000000</td>\n",
       "      <td>0.000000</td>\n",
       "      <td>0.000000</td>\n",
       "      <td>0.000000</td>\n",
       "    </tr>\n",
       "    <tr>\n",
       "      <th>50%</th>\n",
       "      <td>21.000000</td>\n",
       "      <td>1.000000</td>\n",
       "      <td>7.000000</td>\n",
       "      <td>0.000000</td>\n",
       "      <td>0.000000</td>\n",
       "      <td>1.000000</td>\n",
       "    </tr>\n",
       "    <tr>\n",
       "      <th>75%</th>\n",
       "      <td>22.000000</td>\n",
       "      <td>1.000000</td>\n",
       "      <td>8.000000</td>\n",
       "      <td>1.000000</td>\n",
       "      <td>0.000000</td>\n",
       "      <td>1.000000</td>\n",
       "    </tr>\n",
       "    <tr>\n",
       "      <th>max</th>\n",
       "      <td>30.000000</td>\n",
       "      <td>3.000000</td>\n",
       "      <td>9.000000</td>\n",
       "      <td>1.000000</td>\n",
       "      <td>1.000000</td>\n",
       "      <td>1.000000</td>\n",
       "    </tr>\n",
       "  </tbody>\n",
       "</table>\n",
       "</div>"
      ],
      "text/plain": [
       "               Age  Internships         CGPA       Hostel  HistoryOfBacklogs  \\\n",
       "count  2966.000000  2966.000000  2966.000000  2966.000000        2966.000000   \n",
       "mean     21.485840     0.703641     7.073837     0.269049           0.192178   \n",
       "std       1.324933     0.740197     0.967748     0.443540           0.394079   \n",
       "min      19.000000     0.000000     5.000000     0.000000           0.000000   \n",
       "25%      21.000000     0.000000     6.000000     0.000000           0.000000   \n",
       "50%      21.000000     1.000000     7.000000     0.000000           0.000000   \n",
       "75%      22.000000     1.000000     8.000000     1.000000           0.000000   \n",
       "max      30.000000     3.000000     9.000000     1.000000           1.000000   \n",
       "\n",
       "       PlacedOrNot  \n",
       "count  2966.000000  \n",
       "mean      0.552596  \n",
       "std       0.497310  \n",
       "min       0.000000  \n",
       "25%       0.000000  \n",
       "50%       1.000000  \n",
       "75%       1.000000  \n",
       "max       1.000000  "
      ]
     },
     "execution_count": 10,
     "metadata": {},
     "output_type": "execute_result"
    }
   ],
   "source": [
    "data.describe() #Basic Info about the data"
   ]
  },
  {
   "cell_type": "markdown",
   "id": "8aa7e2e6",
   "metadata": {
    "papermill": {
     "duration": 0.025304,
     "end_time": "2021-09-06T20:56:35.234549",
     "exception": false,
     "start_time": "2021-09-06T20:56:35.209245",
     "status": "completed"
    },
    "tags": []
   },
   "source": [
    "# Now, Let's Encode the Data"
   ]
  },
  {
   "cell_type": "code",
   "execution_count": 11,
   "id": "db80f67e",
   "metadata": {
    "execution": {
     "iopub.execute_input": "2021-09-06T20:56:35.295671Z",
     "iopub.status.busy": "2021-09-06T20:56:35.294702Z",
     "iopub.status.idle": "2021-09-06T20:56:35.312652Z",
     "shell.execute_reply": "2021-09-06T20:56:35.312093Z",
     "shell.execute_reply.started": "2021-09-06T20:16:51.608814Z"
    },
    "papermill": {
     "duration": 0.05239,
     "end_time": "2021-09-06T20:56:35.312790",
     "exception": false,
     "start_time": "2021-09-06T20:56:35.260400",
     "status": "completed"
    },
    "tags": []
   },
   "outputs": [
    {
     "name": "stderr",
     "output_type": "stream",
     "text": [
      "/opt/conda/lib/python3.7/site-packages/ipykernel_launcher.py:1: SettingWithCopyWarning: \n",
      "A value is trying to be set on a copy of a slice from a DataFrame\n",
      "\n",
      "See the caveats in the documentation: https://pandas.pydata.org/pandas-docs/stable/user_guide/indexing.html#returning-a-view-versus-a-copy\n",
      "  \"\"\"Entry point for launching an IPython kernel.\n",
      "/opt/conda/lib/python3.7/site-packages/ipykernel_launcher.py:4: SettingWithCopyWarning: \n",
      "A value is trying to be set on a copy of a slice from a DataFrame\n",
      "\n",
      "See the caveats in the documentation: https://pandas.pydata.org/pandas-docs/stable/user_guide/indexing.html#returning-a-view-versus-a-copy\n",
      "  after removing the cwd from sys.path.\n",
      "/opt/conda/lib/python3.7/site-packages/ipykernel_launcher.py:7: SettingWithCopyWarning: \n",
      "A value is trying to be set on a copy of a slice from a DataFrame\n",
      "\n",
      "See the caveats in the documentation: https://pandas.pydata.org/pandas-docs/stable/user_guide/indexing.html#returning-a-view-versus-a-copy\n",
      "  import sys\n"
     ]
    }
   ],
   "source": [
    "data['Internships'][data['Internships'] == 0] = 'No'\n",
    "data['Internships'][data['Internships'] == 1] = 'Yes'\n",
    "\n",
    "data['Hostel'][data['Hostel'] == 0] = 'No'\n",
    "data['Hostel'][data['Hostel'] == 1] = 'Yes'\n",
    "\n",
    "data['HistoryOfBacklogs'][data['HistoryOfBacklogs'] == 0] = 'No'\n",
    "data['HistoryOfBacklogs'][data['HistoryOfBacklogs'] == 1] = 'Yes'"
   ]
  },
  {
   "cell_type": "code",
   "execution_count": 12,
   "id": "d46cfb74",
   "metadata": {
    "execution": {
     "iopub.execute_input": "2021-09-06T20:56:35.377592Z",
     "iopub.status.busy": "2021-09-06T20:56:35.376990Z",
     "iopub.status.idle": "2021-09-06T20:56:35.381051Z",
     "shell.execute_reply": "2021-09-06T20:56:35.380577Z",
     "shell.execute_reply.started": "2021-09-06T20:16:54.376686Z"
    },
    "papermill": {
     "duration": 0.042044,
     "end_time": "2021-09-06T20:56:35.381189",
     "exception": false,
     "start_time": "2021-09-06T20:56:35.339145",
     "status": "completed"
    },
    "tags": []
   },
   "outputs": [
    {
     "data": {
      "text/html": [
       "<div>\n",
       "<style scoped>\n",
       "    .dataframe tbody tr th:only-of-type {\n",
       "        vertical-align: middle;\n",
       "    }\n",
       "\n",
       "    .dataframe tbody tr th {\n",
       "        vertical-align: top;\n",
       "    }\n",
       "\n",
       "    .dataframe thead th {\n",
       "        text-align: right;\n",
       "    }\n",
       "</style>\n",
       "<table border=\"1\" class=\"dataframe\">\n",
       "  <thead>\n",
       "    <tr style=\"text-align: right;\">\n",
       "      <th></th>\n",
       "      <th>Age</th>\n",
       "      <th>Gender</th>\n",
       "      <th>Stream</th>\n",
       "      <th>Internships</th>\n",
       "      <th>CGPA</th>\n",
       "      <th>Hostel</th>\n",
       "      <th>HistoryOfBacklogs</th>\n",
       "      <th>PlacedOrNot</th>\n",
       "    </tr>\n",
       "  </thead>\n",
       "  <tbody>\n",
       "    <tr>\n",
       "      <th>0</th>\n",
       "      <td>22</td>\n",
       "      <td>Male</td>\n",
       "      <td>Electronics And Communication</td>\n",
       "      <td>Yes</td>\n",
       "      <td>8</td>\n",
       "      <td>Yes</td>\n",
       "      <td>Yes</td>\n",
       "      <td>1</td>\n",
       "    </tr>\n",
       "    <tr>\n",
       "      <th>1</th>\n",
       "      <td>21</td>\n",
       "      <td>Female</td>\n",
       "      <td>Computer Science</td>\n",
       "      <td>No</td>\n",
       "      <td>7</td>\n",
       "      <td>Yes</td>\n",
       "      <td>Yes</td>\n",
       "      <td>1</td>\n",
       "    </tr>\n",
       "    <tr>\n",
       "      <th>2</th>\n",
       "      <td>22</td>\n",
       "      <td>Female</td>\n",
       "      <td>Information Technology</td>\n",
       "      <td>Yes</td>\n",
       "      <td>6</td>\n",
       "      <td>No</td>\n",
       "      <td>No</td>\n",
       "      <td>1</td>\n",
       "    </tr>\n",
       "    <tr>\n",
       "      <th>3</th>\n",
       "      <td>21</td>\n",
       "      <td>Male</td>\n",
       "      <td>Information Technology</td>\n",
       "      <td>No</td>\n",
       "      <td>8</td>\n",
       "      <td>No</td>\n",
       "      <td>Yes</td>\n",
       "      <td>1</td>\n",
       "    </tr>\n",
       "    <tr>\n",
       "      <th>4</th>\n",
       "      <td>22</td>\n",
       "      <td>Male</td>\n",
       "      <td>Mechanical</td>\n",
       "      <td>No</td>\n",
       "      <td>8</td>\n",
       "      <td>Yes</td>\n",
       "      <td>No</td>\n",
       "      <td>1</td>\n",
       "    </tr>\n",
       "  </tbody>\n",
       "</table>\n",
       "</div>"
      ],
      "text/plain": [
       "   Age  Gender                         Stream Internships  CGPA Hostel  \\\n",
       "0   22    Male  Electronics And Communication         Yes     8    Yes   \n",
       "1   21  Female               Computer Science          No     7    Yes   \n",
       "2   22  Female         Information Technology         Yes     6     No   \n",
       "3   21    Male         Information Technology          No     8     No   \n",
       "4   22    Male                     Mechanical          No     8    Yes   \n",
       "\n",
       "  HistoryOfBacklogs  PlacedOrNot  \n",
       "0               Yes            1  \n",
       "1               Yes            1  \n",
       "2                No            1  \n",
       "3               Yes            1  \n",
       "4                No            1  "
      ]
     },
     "execution_count": 12,
     "metadata": {},
     "output_type": "execute_result"
    }
   ],
   "source": [
    "data.head() #Displaying head of the data"
   ]
  },
  {
   "cell_type": "code",
   "execution_count": 13,
   "id": "c288ab4f",
   "metadata": {
    "execution": {
     "iopub.execute_input": "2021-09-06T20:56:35.444957Z",
     "iopub.status.busy": "2021-09-06T20:56:35.444275Z",
     "iopub.status.idle": "2021-09-06T20:56:35.452859Z",
     "shell.execute_reply": "2021-09-06T20:56:35.452232Z",
     "shell.execute_reply.started": "2021-09-06T20:17:01.689818Z"
    },
    "papermill": {
     "duration": 0.045248,
     "end_time": "2021-09-06T20:56:35.452997",
     "exception": false,
     "start_time": "2021-09-06T20:56:35.407749",
     "status": "completed"
    },
    "tags": []
   },
   "outputs": [],
   "source": [
    "data = pd.get_dummies(data, drop_first=True) #Encoding"
   ]
  },
  {
   "cell_type": "code",
   "execution_count": 14,
   "id": "e5a87c6d",
   "metadata": {
    "execution": {
     "iopub.execute_input": "2021-09-06T20:56:35.514918Z",
     "iopub.status.busy": "2021-09-06T20:56:35.514248Z",
     "iopub.status.idle": "2021-09-06T20:56:35.523313Z",
     "shell.execute_reply": "2021-09-06T20:56:35.522836Z",
     "shell.execute_reply.started": "2021-09-06T20:17:05.378693Z"
    },
    "papermill": {
     "duration": 0.043598,
     "end_time": "2021-09-06T20:56:35.523454",
     "exception": false,
     "start_time": "2021-09-06T20:56:35.479856",
     "status": "completed"
    },
    "tags": []
   },
   "outputs": [
    {
     "data": {
      "text/html": [
       "<div>\n",
       "<style scoped>\n",
       "    .dataframe tbody tr th:only-of-type {\n",
       "        vertical-align: middle;\n",
       "    }\n",
       "\n",
       "    .dataframe tbody tr th {\n",
       "        vertical-align: top;\n",
       "    }\n",
       "\n",
       "    .dataframe thead th {\n",
       "        text-align: right;\n",
       "    }\n",
       "</style>\n",
       "<table border=\"1\" class=\"dataframe\">\n",
       "  <thead>\n",
       "    <tr style=\"text-align: right;\">\n",
       "      <th></th>\n",
       "      <th>Age</th>\n",
       "      <th>CGPA</th>\n",
       "      <th>PlacedOrNot</th>\n",
       "      <th>Gender_Male</th>\n",
       "      <th>Stream_Computer Science</th>\n",
       "      <th>Stream_Electrical</th>\n",
       "      <th>Stream_Electronics And Communication</th>\n",
       "      <th>Stream_Information Technology</th>\n",
       "      <th>Stream_Mechanical</th>\n",
       "      <th>Internships_3</th>\n",
       "      <th>Internships_No</th>\n",
       "      <th>Internships_Yes</th>\n",
       "      <th>Hostel_Yes</th>\n",
       "      <th>HistoryOfBacklogs_Yes</th>\n",
       "    </tr>\n",
       "  </thead>\n",
       "  <tbody>\n",
       "    <tr>\n",
       "      <th>0</th>\n",
       "      <td>22</td>\n",
       "      <td>8</td>\n",
       "      <td>1</td>\n",
       "      <td>1</td>\n",
       "      <td>0</td>\n",
       "      <td>0</td>\n",
       "      <td>1</td>\n",
       "      <td>0</td>\n",
       "      <td>0</td>\n",
       "      <td>0</td>\n",
       "      <td>0</td>\n",
       "      <td>1</td>\n",
       "      <td>1</td>\n",
       "      <td>1</td>\n",
       "    </tr>\n",
       "    <tr>\n",
       "      <th>1</th>\n",
       "      <td>21</td>\n",
       "      <td>7</td>\n",
       "      <td>1</td>\n",
       "      <td>0</td>\n",
       "      <td>1</td>\n",
       "      <td>0</td>\n",
       "      <td>0</td>\n",
       "      <td>0</td>\n",
       "      <td>0</td>\n",
       "      <td>0</td>\n",
       "      <td>1</td>\n",
       "      <td>0</td>\n",
       "      <td>1</td>\n",
       "      <td>1</td>\n",
       "    </tr>\n",
       "    <tr>\n",
       "      <th>2</th>\n",
       "      <td>22</td>\n",
       "      <td>6</td>\n",
       "      <td>1</td>\n",
       "      <td>0</td>\n",
       "      <td>0</td>\n",
       "      <td>0</td>\n",
       "      <td>0</td>\n",
       "      <td>1</td>\n",
       "      <td>0</td>\n",
       "      <td>0</td>\n",
       "      <td>0</td>\n",
       "      <td>1</td>\n",
       "      <td>0</td>\n",
       "      <td>0</td>\n",
       "    </tr>\n",
       "    <tr>\n",
       "      <th>3</th>\n",
       "      <td>21</td>\n",
       "      <td>8</td>\n",
       "      <td>1</td>\n",
       "      <td>1</td>\n",
       "      <td>0</td>\n",
       "      <td>0</td>\n",
       "      <td>0</td>\n",
       "      <td>1</td>\n",
       "      <td>0</td>\n",
       "      <td>0</td>\n",
       "      <td>1</td>\n",
       "      <td>0</td>\n",
       "      <td>0</td>\n",
       "      <td>1</td>\n",
       "    </tr>\n",
       "    <tr>\n",
       "      <th>4</th>\n",
       "      <td>22</td>\n",
       "      <td>8</td>\n",
       "      <td>1</td>\n",
       "      <td>1</td>\n",
       "      <td>0</td>\n",
       "      <td>0</td>\n",
       "      <td>0</td>\n",
       "      <td>0</td>\n",
       "      <td>1</td>\n",
       "      <td>0</td>\n",
       "      <td>1</td>\n",
       "      <td>0</td>\n",
       "      <td>1</td>\n",
       "      <td>0</td>\n",
       "    </tr>\n",
       "  </tbody>\n",
       "</table>\n",
       "</div>"
      ],
      "text/plain": [
       "   Age  CGPA  PlacedOrNot  Gender_Male  Stream_Computer Science  \\\n",
       "0   22     8            1            1                        0   \n",
       "1   21     7            1            0                        1   \n",
       "2   22     6            1            0                        0   \n",
       "3   21     8            1            1                        0   \n",
       "4   22     8            1            1                        0   \n",
       "\n",
       "   Stream_Electrical  Stream_Electronics And Communication  \\\n",
       "0                  0                                     1   \n",
       "1                  0                                     0   \n",
       "2                  0                                     0   \n",
       "3                  0                                     0   \n",
       "4                  0                                     0   \n",
       "\n",
       "   Stream_Information Technology  Stream_Mechanical  Internships_3  \\\n",
       "0                              0                  0              0   \n",
       "1                              0                  0              0   \n",
       "2                              1                  0              0   \n",
       "3                              1                  0              0   \n",
       "4                              0                  1              0   \n",
       "\n",
       "   Internships_No  Internships_Yes  Hostel_Yes  HistoryOfBacklogs_Yes  \n",
       "0               0                1           1                      1  \n",
       "1               1                0           1                      1  \n",
       "2               0                1           0                      0  \n",
       "3               1                0           0                      1  \n",
       "4               1                0           1                      0  "
      ]
     },
     "execution_count": 14,
     "metadata": {},
     "output_type": "execute_result"
    }
   ],
   "source": [
    "data.head() #Displaying head of the data"
   ]
  },
  {
   "cell_type": "markdown",
   "id": "b37e7b5d",
   "metadata": {
    "papermill": {
     "duration": 0.026635,
     "end_time": "2021-09-06T20:56:35.578152",
     "exception": false,
     "start_time": "2021-09-06T20:56:35.551517",
     "status": "completed"
    },
    "tags": []
   },
   "source": [
    "# SPLITTING THE DATASET INTO TRAIN AND TEST DATA¶"
   ]
  },
  {
   "cell_type": "code",
   "execution_count": 15,
   "id": "b99ecdde",
   "metadata": {
    "execution": {
     "iopub.execute_input": "2021-09-06T20:56:35.638287Z",
     "iopub.status.busy": "2021-09-06T20:56:35.637573Z",
     "iopub.status.idle": "2021-09-06T20:56:35.642469Z",
     "shell.execute_reply": "2021-09-06T20:56:35.641997Z",
     "shell.execute_reply.started": "2021-09-06T20:17:50.256795Z"
    },
    "papermill": {
     "duration": 0.037466,
     "end_time": "2021-09-06T20:56:35.642609",
     "exception": false,
     "start_time": "2021-09-06T20:56:35.605143",
     "status": "completed"
    },
    "tags": []
   },
   "outputs": [],
   "source": [
    "# Splitting the dataset into train and test datasets\n",
    "# 80% Train Data + 20% Test Data\n",
    "\n",
    "from sklearn.model_selection import train_test_split\n",
    "X_train, X_test, y_train, y_test = train_test_split(data.drop('PlacedOrNot', 1), data['PlacedOrNot'], test_size = .2)"
   ]
  },
  {
   "cell_type": "markdown",
   "id": "a94db2ec",
   "metadata": {
    "papermill": {
     "duration": 0.026522,
     "end_time": "2021-09-06T20:56:35.696017",
     "exception": false,
     "start_time": "2021-09-06T20:56:35.669495",
     "status": "completed"
    },
    "tags": []
   },
   "source": [
    "# Using XGBoost"
   ]
  },
  {
   "cell_type": "code",
   "execution_count": 16,
   "id": "360149af",
   "metadata": {
    "execution": {
     "iopub.execute_input": "2021-09-06T20:56:35.756378Z",
     "iopub.status.busy": "2021-09-06T20:56:35.755550Z",
     "iopub.status.idle": "2021-09-06T20:56:36.016802Z",
     "shell.execute_reply": "2021-09-06T20:56:36.017374Z",
     "shell.execute_reply.started": "2021-09-06T20:19:44.478831Z"
    },
    "papermill": {
     "duration": 0.294489,
     "end_time": "2021-09-06T20:56:36.017559",
     "exception": false,
     "start_time": "2021-09-06T20:56:35.723070",
     "status": "completed"
    },
    "tags": []
   },
   "outputs": [
    {
     "name": "stdout",
     "output_type": "stream",
     "text": [
      "accuracy_score: 0.877104377104377\n"
     ]
    }
   ],
   "source": [
    "from xgboost import XGBClassifier\n",
    "from sklearn.model_selection import cross_val_score\n",
    "from sklearn.metrics import confusion_matrix, precision_score, recall_score, f1_score, accuracy_score, roc_auc_score\n",
    "# Define the model\n",
    "\n",
    "    \n",
    "    # defining the model\n",
    "clf = XGBClassifier(learning_rate=0.09, \n",
    "                    n_estimators=100, \n",
    "                    use_label_encoder=False,\n",
    "                    random_state=42)\n",
    "    \n",
    "clf.fit(X_train, y_train, eval_metric='logloss')\n",
    "predictions = clf.predict(X_test) \n",
    "print(\"accuracy_score: \" + str(accuracy_score(y_test, predictions)))"
   ]
  },
  {
   "cell_type": "markdown",
   "id": "f8ebfcc6",
   "metadata": {
    "papermill": {
     "duration": 0.026426,
     "end_time": "2021-09-06T20:56:36.071006",
     "exception": false,
     "start_time": "2021-09-06T20:56:36.044580",
     "status": "completed"
    },
    "tags": []
   },
   "source": []
  },
  {
   "cell_type": "markdown",
   "id": "d67e15a7",
   "metadata": {
    "papermill": {
     "duration": 0.026703,
     "end_time": "2021-09-06T20:56:36.124980",
     "exception": false,
     "start_time": "2021-09-06T20:56:36.098277",
     "status": "completed"
    },
    "tags": []
   },
   "source": [
    "# CREATING CONFUSION MATRIX"
   ]
  },
  {
   "cell_type": "code",
   "execution_count": 17,
   "id": "1807feac",
   "metadata": {
    "execution": {
     "iopub.execute_input": "2021-09-06T20:56:36.182215Z",
     "iopub.status.busy": "2021-09-06T20:56:36.181303Z",
     "iopub.status.idle": "2021-09-06T20:56:36.189908Z",
     "shell.execute_reply": "2021-09-06T20:56:36.190352Z",
     "shell.execute_reply.started": "2021-09-06T20:25:29.371912Z"
    },
    "papermill": {
     "duration": 0.038689,
     "end_time": "2021-09-06T20:56:36.190522",
     "exception": false,
     "start_time": "2021-09-06T20:56:36.151833",
     "status": "completed"
    },
    "tags": []
   },
   "outputs": [],
   "source": [
    "#Function for plotting Confusion Matrix\n",
    "\n",
    "\n",
    "def plot_confusion_matrix(cm, classes,\n",
    "                        normalize=False,\n",
    "                        title='Confusion matrix',\n",
    "                        cmap=plt.cm.Blues):\n",
    "    \"\"\"\n",
    "    This function prints and plots the confusion matrix.\n",
    "    Normalization can be applied by setting `normalize=True`.\n",
    "    \"\"\"\n",
    "    plt.imshow(cm, interpolation='nearest', cmap=cmap)\n",
    "    plt.title(title)\n",
    "    plt.colorbar()\n",
    "    tick_marks = np.arange(len(classes))\n",
    "    plt.xticks(tick_marks, classes, rotation=45)\n",
    "    plt.yticks(tick_marks, classes)\n",
    "\n",
    "    if normalize:\n",
    "        cm = cm.astype('float') / cm.sum(axis=1)[:, np.newaxis]\n",
    "        print(\"Normalized confusion matrix\")\n",
    "    else:\n",
    "        print('Confusion matrix, without normalization')\n",
    "\n",
    "    print(cm)\n",
    "\n",
    "    thresh = cm.max() / 2.\n",
    "    for i in range (cm.shape[0]):\n",
    "        for j in range (cm.shape[1]):\n",
    "            plt.text(j, i, cm[i, j],\n",
    "            horizontalalignment=\"center\",\n",
    "            color=\"white\" if cm[i, j] > thresh else \"black\")\n",
    "\n",
    "    plt.tight_layout()\n",
    "    plt.ylabel('True label')\n",
    "    plt.xlabel('Predicted label')"
   ]
  },
  {
   "cell_type": "code",
   "execution_count": 18,
   "id": "13734015",
   "metadata": {
    "execution": {
     "iopub.execute_input": "2021-09-06T20:56:36.248129Z",
     "iopub.status.busy": "2021-09-06T20:56:36.247229Z",
     "iopub.status.idle": "2021-09-06T20:56:36.253372Z",
     "shell.execute_reply": "2021-09-06T20:56:36.253923Z",
     "shell.execute_reply.started": "2021-09-06T20:25:32.238853Z"
    },
    "papermill": {
     "duration": 0.036329,
     "end_time": "2021-09-06T20:56:36.254084",
     "exception": false,
     "start_time": "2021-09-06T20:56:36.217755",
     "status": "completed"
    },
    "tags": []
   },
   "outputs": [],
   "source": [
    "#Feeding parameters in the CM Function\n",
    "\n",
    "cm = confusion_matrix(y_true=y_test, y_pred=predictions)"
   ]
  },
  {
   "cell_type": "code",
   "execution_count": 19,
   "id": "cc5e88ee",
   "metadata": {
    "execution": {
     "iopub.execute_input": "2021-09-06T20:56:36.311728Z",
     "iopub.status.busy": "2021-09-06T20:56:36.311072Z",
     "iopub.status.idle": "2021-09-06T20:56:36.314175Z",
     "shell.execute_reply": "2021-09-06T20:56:36.314673Z",
     "shell.execute_reply.started": "2021-09-06T20:25:33.968753Z"
    },
    "papermill": {
     "duration": 0.033272,
     "end_time": "2021-09-06T20:56:36.314840",
     "exception": false,
     "start_time": "2021-09-06T20:56:36.281568",
     "status": "completed"
    },
    "tags": []
   },
   "outputs": [],
   "source": [
    "#Labels for the CM\n",
    "\n",
    "cm_plot_labels = ['Not Placed','Placed']"
   ]
  },
  {
   "cell_type": "markdown",
   "id": "dc84c5ee",
   "metadata": {
    "papermill": {
     "duration": 0.026688,
     "end_time": "2021-09-06T20:56:36.369434",
     "exception": false,
     "start_time": "2021-09-06T20:56:36.342746",
     "status": "completed"
    },
    "tags": []
   },
   "source": [
    "# PLOTTING THE CONFUSION MATRIX¶"
   ]
  },
  {
   "cell_type": "code",
   "execution_count": 20,
   "id": "2de8071d",
   "metadata": {
    "execution": {
     "iopub.execute_input": "2021-09-06T20:56:36.426658Z",
     "iopub.status.busy": "2021-09-06T20:56:36.426061Z",
     "iopub.status.idle": "2021-09-06T20:56:36.670083Z",
     "shell.execute_reply": "2021-09-06T20:56:36.670507Z",
     "shell.execute_reply.started": "2021-09-06T20:25:36.739026Z"
    },
    "papermill": {
     "duration": 0.27381,
     "end_time": "2021-09-06T20:56:36.670694",
     "exception": false,
     "start_time": "2021-09-06T20:56:36.396884",
     "status": "completed"
    },
    "tags": []
   },
   "outputs": [
    {
     "name": "stdout",
     "output_type": "stream",
     "text": [
      "Confusion matrix, without normalization\n",
      "[[243  15]\n",
      " [ 58 278]]\n"
     ]
    },
    {
     "data": {
      "image/png": "[encoded data removed]",
      "text/plain": [
       "<Figure size 432x288 with 2 Axes>"
      ]
     },
     "metadata": {
      "needs_background": "light"
     },
     "output_type": "display_data"
    }
   ],
   "source": [
    "#Plotting the CM\n",
    "\n",
    "plot_confusion_matrix(cm=cm, classes=cm_plot_labels, title='Confusion Matrix')"
   ]
  },
  {
   "cell_type": "markdown",
   "id": "1ed66820",
   "metadata": {
    "papermill": {
     "duration": 0.027603,
     "end_time": "2021-09-06T20:56:36.726282",
     "exception": false,
     "start_time": "2021-09-06T20:56:36.698679",
     "status": "completed"
    },
    "tags": []
   },
   "source": [
    "# Plotting the ROC Curve"
   ]
  },
  {
   "cell_type": "code",
   "execution_count": 21,
   "id": "1c0833fa",
   "metadata": {
    "execution": {
     "iopub.execute_input": "2021-09-06T20:56:36.785237Z",
     "iopub.status.busy": "2021-09-06T20:56:36.784569Z",
     "iopub.status.idle": "2021-09-06T20:56:36.941293Z",
     "shell.execute_reply": "2021-09-06T20:56:36.941805Z",
     "shell.execute_reply.started": "2021-09-06T20:28:04.666513Z"
    },
    "papermill": {
     "duration": 0.187752,
     "end_time": "2021-09-06T20:56:36.941982",
     "exception": false,
     "start_time": "2021-09-06T20:56:36.754230",
     "status": "completed"
    },
    "tags": []
   },
   "outputs": [
    {
     "data": {
      "image/png": "[encoded data removed]",
      "text/plain": [
       "<Figure size 432x288 with 1 Axes>"
      ]
     },
     "metadata": {
      "needs_background": "light"
     },
     "output_type": "display_data"
    }
   ],
   "source": [
    "from sklearn.metrics import roc_curve, auc #for model evaluation\n",
    "\n",
    "fpr, tpr, thresholds = roc_curve(y_test, predictions)\n",
    "\n",
    "fig, ax = plt.subplots()\n",
    "ax.plot(fpr, tpr)\n",
    "ax.plot([0, 1], [0, 1], transform=ax.transAxes, ls=\"--\", c=\".3\")\n",
    "plt.xlim([0.0, 1.0])\n",
    "plt.ylim([0.0, 1.0])\n",
    "plt.rcParams['font.size'] = 12\n",
    "plt.title('ROC curve for diabetes classifier')\n",
    "plt.xlabel('False Positive Rate (1 - Specificity)')\n",
    "plt.ylabel('True Positive Rate (Sensitivity)')\n",
    "plt.grid(True)"
   ]
  },
  {
   "cell_type": "markdown",
   "id": "1ce84765",
   "metadata": {
    "papermill": {
     "duration": 0.03755,
     "end_time": "2021-09-06T20:56:37.009073",
     "exception": false,
     "start_time": "2021-09-06T20:56:36.971523",
     "status": "completed"
    },
    "tags": []
   },
   "source": [
    "**After plotting the ROC Curve, we can see that our model has performed really well on the Test Dataset.**"
   ]
  },
  {
   "cell_type": "markdown",
   "id": "7eb764fa",
   "metadata": {
    "papermill": {
     "duration": 0.040621,
     "end_time": "2021-09-06T20:56:37.091748",
     "exception": false,
     "start_time": "2021-09-06T20:56:37.051127",
     "status": "completed"
    },
    "tags": []
   },
   "source": []
  },
  {
   "cell_type": "markdown",
   "id": "eadd80ce",
   "metadata": {
    "papermill": {
     "duration": 0.029805,
     "end_time": "2021-09-06T20:56:37.152933",
     "exception": false,
     "start_time": "2021-09-06T20:56:37.123128",
     "status": "completed"
    },
    "tags": []
   },
   "source": []
  },
  {
   "cell_type": "markdown",
   "id": "9033f04e",
   "metadata": {
    "papermill": {
     "duration": 0.028988,
     "end_time": "2021-09-06T20:56:37.211100",
     "exception": false,
     "start_time": "2021-09-06T20:56:37.182112",
     "status": "completed"
    },
    "tags": []
   },
   "source": []
  }
 ],
 "metadata": {
  "kernelspec": {
   "display_name": "Python 3",
   "language": "python",
   "name": "python3"
  },
  "language_info": {
   "codemirror_mode": {
    "name": "ipython",
    "version": 3
   },
   "file_extension": ".py",
   "mimetype": "text/x-python",
   "name": "python",
   "nbconvert_exporter": "python",
   "pygments_lexer": "ipython3",
   "version": "3.7.10"
  },
  "papermill": {
   "default_parameters": {},
   "duration": 32.867809,
   "end_time": "2021-09-06T20:56:39.104618",
   "environment_variables": {},
   "exception": null,
   "input_path": "__notebook__.ipynb",
   "output_path": "__notebook__.ipynb",
   "parameters": {},
   "start_time": "2021-09-06T20:56:06.236809",
   "version": "2.3.3"
  }
 },
 "nbformat": 4,
 "nbformat_minor": 5
}
